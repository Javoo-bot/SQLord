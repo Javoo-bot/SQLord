{
 "cells": [
  {
   "cell_type": "markdown",
   "metadata": {},
   "source": [
    "#instalar pip install Office365-REST-Python-Client"
   ]
  }
 ],
 "metadata": {
  "language_info": {
   "name": "python"
  }
 },
 "nbformat": 4,
 "nbformat_minor": 2
}
